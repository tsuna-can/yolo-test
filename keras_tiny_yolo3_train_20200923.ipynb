{
  "nbformat": 4,
  "nbformat_minor": 0,
  "metadata": {
    "colab": {
      "name": "keras-tiny_yolo3-train",
      "provenance": [],
      "collapsed_sections": []
    },
    "kernelspec": {
      "name": "python3",
      "display_name": "Python 3"
    }
  },
  "cells": [
    {
      "cell_type": "markdown",
      "metadata": {
        "id": "44WhHRLpS6mU",
        "colab_type": "text"
      },
      "source": [
        "### Download keras-yolo3 project\n",
        "Github: https://github.com/sleepless-se/keras-yolo3(本家)<br>\n",
        "自分のgit :  https://github.com/tsuna-can/yolo-test.git"
      ]
    },
    {
      "cell_type": "markdown",
      "metadata": {
        "id": "x808EhZEdCci",
        "colab_type": "text"
      },
      "source": [
        "## Clone sleepless-se/keras-yolo3.git"
      ]
    },
    {
      "cell_type": "code",
      "metadata": {
        "id": "CmqIbWypmiGs",
        "colab_type": "code",
        "colab": {}
      },
      "source": [
        "#自分のやつtinyに変更済み\n",
        "!git clone https://github.com/tsuna-can/yolo-test.git\n",
        "%cd yolo-test"
      ],
      "execution_count": null,
      "outputs": []
    },
    {
      "cell_type": "markdown",
      "metadata": {
        "id": "vFTPVghhdrS9",
        "colab_type": "text"
      },
      "source": [
        "## Install requirements\n",
        "\n",
        "インストールした後にランタイムを再起動するのを忘れずに\n"
      ]
    },
    {
      "cell_type": "code",
      "metadata": {
        "id": "qbMYLol9drw9",
        "colab_type": "code",
        "colab": {}
      },
      "source": [
        "!pip install -r requirements.txt"
      ],
      "execution_count": null,
      "outputs": []
    },
    {
      "cell_type": "markdown",
      "metadata": {
        "id": "dmnt3MbRTJ7V",
        "colab_type": "text"
      },
      "source": [
        "### Upload VoTT export file and directory (.zip)\n",
        "Please upload your Archive.zip\n"
      ]
    },
    {
      "cell_type": "code",
      "metadata": {
        "id": "HO7XJg1yFVe2",
        "colab_type": "code",
        "colab": {}
      },
      "source": [
        "%cd VOCDevkit/VOC2007\n",
        "%cd /content/yolo-test/VOCDevkit/VOC2007\n",
        "from google.colab import files\n",
        "uploaded = files.upload()\n",
        "!ls"
      ],
      "execution_count": null,
      "outputs": []
    },
    {
      "cell_type": "markdown",
      "metadata": {
        "id": "Z7FK9lOfTVTR",
        "colab_type": "text"
      },
      "source": [
        "### Unzip and  make train *files*"
      ]
    },
    {
      "cell_type": "code",
      "metadata": {
        "id": "XC5Up7kiEJUC",
        "colab_type": "code",
        "colab": {}
      },
      "source": [
        "!unzip Archive\n",
        "%cd /content/yolo-test/\n",
        "!python make_train_files.py"
      ],
      "execution_count": null,
      "outputs": []
    },
    {
      "cell_type": "markdown",
      "metadata": {
        "id": "jUoAiG4UTe9A",
        "colab_type": "text"
      },
      "source": [
        "### Convert annotations for YOLO\n",
        "\n",
        "Please set your *classes*<br>\n",
        "フラグでクラスを指定する\n",
        "\n"
      ]
    },
    {
      "cell_type": "code",
      "metadata": {
        "id": "diC0y4-_KsFf",
        "colab_type": "code",
        "colab": {}
      },
      "source": [
        "!python voc_annotation.py tree tree_white"
      ],
      "execution_count": null,
      "outputs": []
    },
    {
      "cell_type": "markdown",
      "metadata": {
        "id": "4Ej6x80iUitk",
        "colab_type": "text"
      },
      "source": [
        "### Train model"
      ]
    },
    {
      "cell_type": "code",
      "metadata": {
        "id": "xlq3Eh2YGD7X",
        "colab_type": "code",
        "colab": {}
      },
      "source": [
        "!python train.py"
      ],
      "execution_count": null,
      "outputs": []
    },
    {
      "cell_type": "markdown",
      "metadata": {
        "id": "e2z2q-QnUmLl",
        "colab_type": "text"
      },
      "source": [
        "### Download trainde weights and classes file\n",
        "<br>\n",
        "ダウンロードがブロックされることがあるので注意"
      ]
    },
    {
      "cell_type": "code",
      "metadata": {
        "id": "-ooSoQmRyn-J",
        "colab_type": "code",
        "colab": {}
      },
      "source": [
        "#weight\n",
        "trained = 'logs/000/trained_weights_final.h5'\n",
        "files.download(trained)"
      ],
      "execution_count": null,
      "outputs": []
    },
    {
      "cell_type": "code",
      "metadata": {
        "id": "o3qMhAalLPwL",
        "colab_type": "code",
        "colab": {}
      },
      "source": [
        "#クラス名\n",
        "classes = \"model_data/voc_classes.txt\"\n",
        "files.download(classes)"
      ],
      "execution_count": null,
      "outputs": []
    },
    {
      "cell_type": "code",
      "metadata": {
        "id": "o-xhCy6zyoG4",
        "colab_type": "code",
        "colab": {}
      },
      "source": [
        "#train\n",
        "train_imgs = \"model_data/2007_train.txt\"\n",
        "files.download(train_imgs)"
      ],
      "execution_count": null,
      "outputs": []
    },
    {
      "cell_type": "code",
      "metadata": {
        "id": "jUFTwFHSyoOP",
        "colab_type": "code",
        "colab": {}
      },
      "source": [
        "#val\n",
        "val_imgs = \"model_data/2007_val.txt\"\n",
        "files.download(val_imgs)"
      ],
      "execution_count": null,
      "outputs": []
    },
    {
      "cell_type": "code",
      "metadata": {
        "id": "-556JOzRyoVS",
        "colab_type": "code",
        "colab": {}
      },
      "source": [
        "#test\n",
        "test_imgs = \"model_data/2007_test.txt\"\n",
        "files.download(test_imgs)"
      ],
      "execution_count": null,
      "outputs": []
    },
    {
      "cell_type": "markdown",
      "metadata": {
        "id": "9_rn0ZeXZoLx",
        "colab_type": "text"
      },
      "source": [
        "### Predict by new model\n",
        "結果はresult.jpgとして保存されるようにしてあります<br>\n",
        "カーネルを再起動した時はディレクトリを移動し、voc_classes.txtを書き換えて、logs/000/にweightファイルをアップロードする。<br>\n",
        "weightファイルが破損する可能性があるので、必ずアップロードボタンからアップロードする\n"
      ]
    },
    {
      "cell_type": "code",
      "metadata": {
        "id": "KKFH_XSwYMJP",
        "colab_type": "code",
        "colab": {}
      },
      "source": [
        "!python tiny_yolo_video.py --image"
      ],
      "execution_count": null,
      "outputs": []
    },
    {
      "cell_type": "code",
      "metadata": {
        "id": "DI8icwITrwFq",
        "colab_type": "code",
        "colab": {}
      },
      "source": [
        ""
      ],
      "execution_count": null,
      "outputs": []
    }
  ]
}