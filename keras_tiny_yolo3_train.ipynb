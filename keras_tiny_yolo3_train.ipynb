{
  "nbformat": 4,
  "nbformat_minor": 0,
  "metadata": {
    "colab": {
      "name": "keras-tiny_yolo3-train",
      "provenance": [],
      "collapsed_sections": []
    },
    "kernelspec": {
      "name": "python3",
      "display_name": "Python 3"
    }
  },
  "cells": [
    {
      "cell_type": "markdown",
      "metadata": {
        "id": "44WhHRLpS6mU",
        "colab_type": "text"
      },
      "source": [
        "### Download keras-yolo3 project\n",
        "Github: https://github.com/sleepless-se/keras-yolo3(本家)\n",
        "自分のgit :  https://github.com/tsuna-can/yolo-test.git"
      ]
    },
    {
      "cell_type": "markdown",
      "metadata": {
        "id": "x808EhZEdCci",
        "colab_type": "text"
      },
      "source": [
        "## Clone sleepless-se/keras-yolo3.git"
      ]
    },
    {
      "cell_type": "code",
      "metadata": {
        "id": "CmqIbWypmiGs",
        "colab_type": "code",
        "colab": {
          "base_uri": "https://localhost:8080/",
          "height": 136
        },
        "outputId": "6f7fb463-67b9-43ef-f462-d10bf378fcfc"
      },
      "source": [
        "#自分のやつtinyに変更済みのはず\n",
        "!git clone https://github.com/tsuna-can/yolo-test.git\n",
        "%cd yolo-test"
      ],
      "execution_count": 1,
      "outputs": [
        {
          "output_type": "stream",
          "text": [
            "Cloning into 'yolo-test'...\n",
            "remote: Enumerating objects: 42, done.\u001b[K\n",
            "remote: Counting objects: 100% (42/42), done.\u001b[K\n",
            "remote: Compressing objects: 100% (33/33), done.\u001b[K\n",
            "remote: Total 42 (delta 9), reused 39 (delta 6), pack-reused 0\u001b[K\n",
            "Unpacking objects: 100% (42/42), done.\n",
            "/content/yolo-test\n"
          ],
          "name": "stdout"
        }
      ]
    },
    {
      "cell_type": "markdown",
      "metadata": {
        "id": "vFTPVghhdrS9",
        "colab_type": "text"
      },
      "source": [
        "## Install requirements\n",
        "\n",
        "インストールした後にランタイムを再起動するのを忘れずに\n"
      ]
    },
    {
      "cell_type": "code",
      "metadata": {
        "id": "qbMYLol9drw9",
        "colab_type": "code",
        "colab": {
          "base_uri": "https://localhost:8080/",
          "height": 1000
        },
        "outputId": "349fa53f-0dd4-440b-cdca-26815c25681a"
      },
      "source": [
        "!pip install -r requirements.txt"
      ],
      "execution_count": 2,
      "outputs": [
        {
          "output_type": "stream",
          "text": [
            "Collecting absl-py==0.7.1\n",
            "\u001b[?25l  Downloading https://files.pythonhosted.org/packages/da/3f/9b0355080b81b15ba6a9ffcf1f5ea39e307a2778b2f2dc8694724e8abd5b/absl-py-0.7.1.tar.gz (99kB)\n",
            "\r\u001b[K     |███▎                            | 10kB 16.7MB/s eta 0:00:01\r\u001b[K     |██████▋                         | 20kB 2.1MB/s eta 0:00:01\r\u001b[K     |█████████▉                      | 30kB 2.7MB/s eta 0:00:01\r\u001b[K     |█████████████▏                  | 40kB 3.0MB/s eta 0:00:01\r\u001b[K     |████████████████▍               | 51kB 2.5MB/s eta 0:00:01\r\u001b[K     |███████████████████▊            | 61kB 2.8MB/s eta 0:00:01\r\u001b[K     |███████████████████████         | 71kB 3.0MB/s eta 0:00:01\r\u001b[K     |██████████████████████████▎     | 81kB 3.3MB/s eta 0:00:01\r\u001b[K     |█████████████████████████████▌  | 92kB 3.5MB/s eta 0:00:01\r\u001b[K     |████████████████████████████████| 102kB 2.6MB/s \n",
            "\u001b[?25hCollecting astor==0.8.0\n",
            "  Downloading https://files.pythonhosted.org/packages/d1/4f/950dfae467b384fc96bc6469de25d832534f6b4441033c39f914efd13418/astor-0.8.0-py2.py3-none-any.whl\n",
            "Collecting bleach==1.5.0\n",
            "  Downloading https://files.pythonhosted.org/packages/33/70/86c5fec937ea4964184d4d6c4f0b9551564f821e1c3575907639036d9b90/bleach-1.5.0-py2.py3-none-any.whl\n",
            "Requirement already satisfied: cycler==0.10.0 in /usr/local/lib/python3.6/dist-packages (from -r requirements.txt (line 4)) (0.10.0)\n",
            "Collecting gast==0.2.2\n",
            "  Downloading https://files.pythonhosted.org/packages/4e/35/11749bf99b2d4e3cceb4d55ca22590b0d7c2c62b9de38ac4a4a7f4687421/gast-0.2.2.tar.gz\n",
            "Collecting grpcio==1.21.1\n",
            "\u001b[?25l  Downloading https://files.pythonhosted.org/packages/99/83/18f374294bf34128a448ee2fae37651f943b0b5fa473b5b3aff262c15bf8/grpcio-1.21.1-cp36-cp36m-manylinux1_x86_64.whl (2.2MB)\n",
            "\u001b[K     |████████████████████████████████| 2.2MB 10.6MB/s \n",
            "\u001b[?25hCollecting h5py==2.9.0\n",
            "\u001b[?25l  Downloading https://files.pythonhosted.org/packages/30/99/d7d4fbf2d02bb30fb76179911a250074b55b852d34e98dd452a9f394ac06/h5py-2.9.0-cp36-cp36m-manylinux1_x86_64.whl (2.8MB)\n",
            "\u001b[K     |████████████████████████████████| 2.8MB 36.7MB/s \n",
            "\u001b[?25hCollecting html5lib==0.9999999\n",
            "\u001b[?25l  Downloading https://files.pythonhosted.org/packages/ae/ae/bcb60402c60932b32dfaf19bb53870b29eda2cd17551ba5639219fb5ebf9/html5lib-0.9999999.tar.gz (889kB)\n",
            "\u001b[K     |████████████████████████████████| 890kB 41.5MB/s \n",
            "\u001b[?25hCollecting Keras==2.1.5\n",
            "\u001b[?25l  Downloading https://files.pythonhosted.org/packages/ba/65/e4aff762b8696ec0626a6654b1e73b396fcc8b7cc6b98d78a1bc53b85b48/Keras-2.1.5-py2.py3-none-any.whl (334kB)\n",
            "\u001b[K     |████████████████████████████████| 337kB 43.0MB/s \n",
            "\u001b[?25hCollecting kiwisolver==1.1.0\n",
            "\u001b[?25l  Downloading https://files.pythonhosted.org/packages/f8/a1/5742b56282449b1c0968197f63eae486eca2c35dcd334bab75ad524e0de1/kiwisolver-1.1.0-cp36-cp36m-manylinux1_x86_64.whl (90kB)\n",
            "\u001b[K     |████████████████████████████████| 92kB 9.6MB/s \n",
            "\u001b[?25hCollecting Markdown==3.1.1\n",
            "\u001b[?25l  Downloading https://files.pythonhosted.org/packages/c0/4e/fd492e91abdc2d2fcb70ef453064d980688762079397f779758e055f6575/Markdown-3.1.1-py2.py3-none-any.whl (87kB)\n",
            "\u001b[K     |████████████████████████████████| 92kB 9.2MB/s \n",
            "\u001b[?25hCollecting matplotlib==3.0.3\n",
            "\u001b[?25l  Downloading https://files.pythonhosted.org/packages/e9/69/f5e05f578585ed9935247be3788b374f90701296a70c8871bcd6d21edb00/matplotlib-3.0.3-cp36-cp36m-manylinux1_x86_64.whl (13.0MB)\n",
            "\u001b[K     |████████████████████████████████| 13.0MB 46.5MB/s \n",
            "\u001b[?25hCollecting numpy==1.16.4\n",
            "\u001b[?25l  Downloading https://files.pythonhosted.org/packages/87/2d/e4656149cbadd3a8a0369fcd1a9c7d61cc7b87b3903b85389c70c989a696/numpy-1.16.4-cp36-cp36m-manylinux1_x86_64.whl (17.3MB)\n",
            "\u001b[K     |████████████████████████████████| 17.3MB 167kB/s \n",
            "\u001b[?25hCollecting Pillow==6.0.0\n",
            "\u001b[?25l  Downloading https://files.pythonhosted.org/packages/d2/c2/f84b1e57416755e967236468dcfb0fad7fd911f707185efc4ba8834a1a94/Pillow-6.0.0-cp36-cp36m-manylinux1_x86_64.whl (2.0MB)\n",
            "\u001b[K     |████████████████████████████████| 2.0MB 41.6MB/s \n",
            "\u001b[?25hCollecting protobuf==3.8.0\n",
            "\u001b[?25l  Downloading https://files.pythonhosted.org/packages/d2/fb/29de8d08967f0cce1bb10b39846d836b0f3bf6776ddc36aed7c73498ca7e/protobuf-3.8.0-cp36-cp36m-manylinux1_x86_64.whl (1.2MB)\n",
            "\u001b[K     |████████████████████████████████| 1.2MB 40.9MB/s \n",
            "\u001b[?25hCollecting pyparsing==2.4.0\n",
            "\u001b[?25l  Downloading https://files.pythonhosted.org/packages/dd/d9/3ec19e966301a6e25769976999bd7bbe552016f0d32b577dc9d63d2e0c49/pyparsing-2.4.0-py2.py3-none-any.whl (62kB)\n",
            "\u001b[K     |████████████████████████████████| 71kB 4.8MB/s \n",
            "\u001b[?25hCollecting python-dateutil==2.8.0\n",
            "\u001b[?25l  Downloading https://files.pythonhosted.org/packages/41/17/c62faccbfbd163c7f57f3844689e3a78bae1f403648a6afb1d0866d87fbb/python_dateutil-2.8.0-py2.py3-none-any.whl (226kB)\n",
            "\u001b[K     |████████████████████████████████| 235kB 38.3MB/s \n",
            "\u001b[?25hCollecting PyYAML==5.1.1\n",
            "\u001b[?25l  Downloading https://files.pythonhosted.org/packages/a3/65/837fefac7475963d1eccf4aa684c23b95aa6c1d033a2c5965ccb11e22623/PyYAML-5.1.1.tar.gz (274kB)\n",
            "\u001b[K     |████████████████████████████████| 276kB 48.8MB/s \n",
            "\u001b[?25hCollecting scipy==1.3.0\n",
            "\u001b[?25l  Downloading https://files.pythonhosted.org/packages/72/4c/5f81e7264b0a7a8bd570810f48cd346ba36faedbd2ba255c873ad556de76/scipy-1.3.0-cp36-cp36m-manylinux1_x86_64.whl (25.2MB)\n",
            "\u001b[K     |████████████████████████████████| 25.2MB 102kB/s \n",
            "\u001b[?25hCollecting six==1.12.0\n",
            "  Downloading https://files.pythonhosted.org/packages/73/fb/00a976f728d0d1fecfe898238ce23f502a721c0ac0ecfedb80e0d88c64e9/six-1.12.0-py2.py3-none-any.whl\n",
            "Collecting tensorboard==1.6.0\n",
            "\u001b[?25l  Downloading https://files.pythonhosted.org/packages/b0/67/a8c91665987d359211dcdca5c8b2a7c1e0876eb0702a4383c1e4ff76228d/tensorboard-1.6.0-py3-none-any.whl (3.0MB)\n",
            "\u001b[K     |████████████████████████████████| 3.1MB 39.1MB/s \n",
            "\u001b[?25hCollecting tensorflow==1.6.0\n",
            "\u001b[?25l  Downloading https://files.pythonhosted.org/packages/d9/0f/fbd8bb92459c75db93040f80702ebe4ba83a52cdb6ad930654c31dc0b711/tensorflow-1.6.0-cp36-cp36m-manylinux1_x86_64.whl (45.8MB)\n",
            "\u001b[K     |████████████████████████████████| 45.9MB 79kB/s \n",
            "\u001b[?25hRequirement already satisfied: termcolor==1.1.0 in /usr/local/lib/python3.6/dist-packages (from -r requirements.txt (line 23)) (1.1.0)\n",
            "Collecting Werkzeug==0.15.4\n",
            "\u001b[?25l  Downloading https://files.pythonhosted.org/packages/9f/57/92a497e38161ce40606c27a86759c6b92dd34fcdb33f64171ec559257c02/Werkzeug-0.15.4-py2.py3-none-any.whl (327kB)\n",
            "\u001b[K     |████████████████████████████████| 327kB 45.5MB/s \n",
            "\u001b[?25hRequirement already satisfied: setuptools in /usr/local/lib/python3.6/dist-packages (from kiwisolver==1.1.0->-r requirements.txt (line 10)) (50.3.0)\n",
            "Requirement already satisfied: wheel>=0.26; python_version >= \"3\" in /usr/local/lib/python3.6/dist-packages (from tensorboard==1.6.0->-r requirements.txt (line 21)) (0.35.1)\n",
            "Building wheels for collected packages: absl-py, gast, html5lib, PyYAML\n",
            "  Building wheel for absl-py (setup.py) ... \u001b[?25l\u001b[?25hdone\n",
            "  Created wheel for absl-py: filename=absl_py-0.7.1-cp36-none-any.whl size=117848 sha256=d81bc3b3772c9c46d5ba04da9ddc0c921ef9e8c0b849e6dd1ce9e02fa45b4f38\n",
            "  Stored in directory: /root/.cache/pip/wheels/ee/98/38/46cbcc5a93cfea5492d19c38562691ddb23b940176c14f7b48\n",
            "  Building wheel for gast (setup.py) ... \u001b[?25l\u001b[?25hdone\n",
            "  Created wheel for gast: filename=gast-0.2.2-cp36-none-any.whl size=7542 sha256=3af64ff48c9493841f5b85c6bb6349680c047a6c0fccb4331cf40ddf11957dac\n",
            "  Stored in directory: /root/.cache/pip/wheels/5c/2e/7e/a1d4d4fcebe6c381f378ce7743a3ced3699feb89bcfbdadadd\n",
            "  Building wheel for html5lib (setup.py) ... \u001b[?25l\u001b[?25hdone\n",
            "  Created wheel for html5lib: filename=html5lib-0.9999999-cp36-none-any.whl size=107220 sha256=b703c74b38bf7866e3d803fb148d06fada7988f8e030e3881aee4cc8dc97bc4a\n",
            "  Stored in directory: /root/.cache/pip/wheels/50/ae/f9/d2b189788efcf61d1ee0e36045476735c838898eef1cad6e29\n",
            "  Building wheel for PyYAML (setup.py) ... \u001b[?25l\u001b[?25hdone\n",
            "  Created wheel for PyYAML: filename=PyYAML-5.1.1-cp36-cp36m-linux_x86_64.whl size=44100 sha256=72c159fb87d2bbfbb07c6e385dff06afcf1adcfd7385ffd16c6e388c98c18c37\n",
            "  Stored in directory: /root/.cache/pip/wheels/16/27/a1/775c62ddea7bfa62324fd1f65847ed31c55dadb6051481ba3f\n",
            "Successfully built absl-py gast html5lib PyYAML\n",
            "\u001b[31mERROR: umap-learn 0.4.6 has requirement numpy>=1.17, but you'll have numpy 1.16.4 which is incompatible.\u001b[0m\n",
            "\u001b[31mERROR: umap-learn 0.4.6 has requirement scipy>=1.3.1, but you'll have scipy 1.3.0 which is incompatible.\u001b[0m\n",
            "\u001b[31mERROR: tensorflow-probability 0.11.0 has requirement gast>=0.3.2, but you'll have gast 0.2.2 which is incompatible.\u001b[0m\n",
            "\u001b[31mERROR: tensorflow-metadata 0.24.0 has requirement absl-py<0.11,>=0.9, but you'll have absl-py 0.7.1 which is incompatible.\u001b[0m\n",
            "\u001b[31mERROR: plotnine 0.6.0 has requirement matplotlib>=3.1.1, but you'll have matplotlib 3.0.3 which is incompatible.\u001b[0m\n",
            "\u001b[31mERROR: nbclient 0.5.0 has requirement jupyter-client>=6.1.5, but you'll have jupyter-client 5.3.5 which is incompatible.\u001b[0m\n",
            "\u001b[31mERROR: mizani 0.6.0 has requirement matplotlib>=3.1.1, but you'll have matplotlib 3.0.3 which is incompatible.\u001b[0m\n",
            "\u001b[31mERROR: google-colab 1.0.0 has requirement six~=1.15.0, but you'll have six 1.12.0 which is incompatible.\u001b[0m\n",
            "\u001b[31mERROR: datascience 0.10.6 has requirement folium==0.2.1, but you'll have folium 0.8.3 which is incompatible.\u001b[0m\n",
            "\u001b[31mERROR: albumentations 0.1.12 has requirement imgaug<0.2.7,>=0.2.5, but you'll have imgaug 0.2.9 which is incompatible.\u001b[0m\n",
            "Installing collected packages: six, absl-py, astor, html5lib, bleach, gast, grpcio, numpy, h5py, PyYAML, scipy, Keras, kiwisolver, Markdown, pyparsing, python-dateutil, matplotlib, Pillow, protobuf, Werkzeug, tensorboard, tensorflow\n",
            "  Found existing installation: six 1.15.0\n",
            "    Uninstalling six-1.15.0:\n",
            "      Successfully uninstalled six-1.15.0\n",
            "  Found existing installation: absl-py 0.10.0\n",
            "    Uninstalling absl-py-0.10.0:\n",
            "      Successfully uninstalled absl-py-0.10.0\n",
            "  Found existing installation: astor 0.8.1\n",
            "    Uninstalling astor-0.8.1:\n",
            "      Successfully uninstalled astor-0.8.1\n",
            "  Found existing installation: html5lib 1.0.1\n",
            "    Uninstalling html5lib-1.0.1:\n",
            "      Successfully uninstalled html5lib-1.0.1\n",
            "  Found existing installation: bleach 3.1.5\n",
            "    Uninstalling bleach-3.1.5:\n",
            "      Successfully uninstalled bleach-3.1.5\n",
            "  Found existing installation: gast 0.3.3\n",
            "    Uninstalling gast-0.3.3:\n",
            "      Successfully uninstalled gast-0.3.3\n",
            "  Found existing installation: grpcio 1.32.0\n",
            "    Uninstalling grpcio-1.32.0:\n",
            "      Successfully uninstalled grpcio-1.32.0\n",
            "  Found existing installation: numpy 1.18.5\n",
            "    Uninstalling numpy-1.18.5:\n",
            "      Successfully uninstalled numpy-1.18.5\n",
            "  Found existing installation: h5py 2.10.0\n",
            "    Uninstalling h5py-2.10.0:\n",
            "      Successfully uninstalled h5py-2.10.0\n",
            "  Found existing installation: PyYAML 3.13\n",
            "    Uninstalling PyYAML-3.13:\n",
            "      Successfully uninstalled PyYAML-3.13\n",
            "  Found existing installation: scipy 1.4.1\n",
            "    Uninstalling scipy-1.4.1:\n",
            "      Successfully uninstalled scipy-1.4.1\n",
            "  Found existing installation: Keras 2.4.3\n",
            "    Uninstalling Keras-2.4.3:\n",
            "      Successfully uninstalled Keras-2.4.3\n",
            "  Found existing installation: kiwisolver 1.2.0\n",
            "    Uninstalling kiwisolver-1.2.0:\n",
            "      Successfully uninstalled kiwisolver-1.2.0\n",
            "  Found existing installation: Markdown 3.2.2\n",
            "    Uninstalling Markdown-3.2.2:\n",
            "      Successfully uninstalled Markdown-3.2.2\n",
            "  Found existing installation: pyparsing 2.4.7\n",
            "    Uninstalling pyparsing-2.4.7:\n",
            "      Successfully uninstalled pyparsing-2.4.7\n",
            "  Found existing installation: python-dateutil 2.8.1\n",
            "    Uninstalling python-dateutil-2.8.1:\n",
            "      Successfully uninstalled python-dateutil-2.8.1\n",
            "  Found existing installation: matplotlib 3.2.2\n",
            "    Uninstalling matplotlib-3.2.2:\n",
            "      Successfully uninstalled matplotlib-3.2.2\n",
            "  Found existing installation: Pillow 7.0.0\n",
            "    Uninstalling Pillow-7.0.0:\n",
            "      Successfully uninstalled Pillow-7.0.0\n",
            "  Found existing installation: protobuf 3.12.4\n",
            "    Uninstalling protobuf-3.12.4:\n",
            "      Successfully uninstalled protobuf-3.12.4\n",
            "  Found existing installation: Werkzeug 1.0.1\n",
            "    Uninstalling Werkzeug-1.0.1:\n",
            "      Successfully uninstalled Werkzeug-1.0.1\n",
            "  Found existing installation: tensorboard 2.3.0\n",
            "    Uninstalling tensorboard-2.3.0:\n",
            "      Successfully uninstalled tensorboard-2.3.0\n",
            "  Found existing installation: tensorflow 2.3.0\n",
            "    Uninstalling tensorflow-2.3.0:\n",
            "      Successfully uninstalled tensorflow-2.3.0\n",
            "Successfully installed Keras-2.1.5 Markdown-3.1.1 Pillow-6.0.0 PyYAML-5.1.1 Werkzeug-0.15.4 absl-py-0.7.1 astor-0.8.0 bleach-1.5.0 gast-0.2.2 grpcio-1.21.1 h5py-2.9.0 html5lib-0.9999999 kiwisolver-1.1.0 matplotlib-3.0.3 numpy-1.16.4 protobuf-3.8.0 pyparsing-2.4.0 python-dateutil-2.8.0 scipy-1.3.0 six-1.12.0 tensorboard-1.6.0 tensorflow-1.6.0\n"
          ],
          "name": "stdout"
        },
        {
          "output_type": "display_data",
          "data": {
            "application/vnd.colab-display-data+json": {
              "pip_warning": {
                "packages": [
                  "PIL",
                  "dateutil",
                  "google",
                  "kiwisolver",
                  "matplotlib",
                  "mpl_toolkits",
                  "numpy",
                  "pyparsing",
                  "six"
                ]
              }
            }
          },
          "metadata": {
            "tags": []
          }
        }
      ]
    },
    {
      "cell_type": "markdown",
      "metadata": {
        "id": "dmnt3MbRTJ7V",
        "colab_type": "text"
      },
      "source": [
        "### Upload VoTT export file and directory (.zip)\n",
        "Please upload your Archive.zip\n"
      ]
    },
    {
      "cell_type": "code",
      "metadata": {
        "id": "HO7XJg1yFVe2",
        "colab_type": "code",
        "colab": {
          "resources": {
            "http://localhost:8080/nbextensions/google.colab/files.js": {
              "data": "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",
              "ok": true,
              "headers": [
                [
                  "content-type",
                  "application/javascript"
                ]
              ],
              "status": 200,
              "status_text": ""
            }
          },
          "base_uri": "https://localhost:8080/",
          "height": 146
        },
        "outputId": "158c54ed-3624-4a44-d2d3-847f2011e884"
      },
      "source": [
        "%cd VOCDevkit/VOC2007\n",
        "%cd /content/yolo-test/VOCDevkit/VOC2007\n",
        "from google.colab import files\n",
        "uploaded = files.upload()\n",
        "!ls"
      ],
      "execution_count": 1,
      "outputs": [
        {
          "output_type": "stream",
          "text": [
            "[Errno 2] No such file or directory: 'VOCDevkit/VOC2007'\n",
            "/content\n",
            "/content/yolo-test/VOCDevkit/VOC2007\n"
          ],
          "name": "stdout"
        },
        {
          "output_type": "display_data",
          "data": {
            "text/html": [
              "\n",
              "     <input type=\"file\" id=\"files-77da8d5e-ca2c-4c90-8e1d-513e9f185d95\" name=\"files[]\" multiple disabled\n",
              "        style=\"border:none\" />\n",
              "     <output id=\"result-77da8d5e-ca2c-4c90-8e1d-513e9f185d95\">\n",
              "      Upload widget is only available when the cell has been executed in the\n",
              "      current browser session. Please rerun this cell to enable.\n",
              "      </output>\n",
              "      <script src=\"/nbextensions/google.colab/files.js\"></script> "
            ],
            "text/plain": [
              "<IPython.core.display.HTML object>"
            ]
          },
          "metadata": {
            "tags": []
          }
        },
        {
          "output_type": "stream",
          "text": [
            "Saving Archive.zip to Archive.zip\n",
            "Archive.zip\n"
          ],
          "name": "stdout"
        }
      ]
    },
    {
      "cell_type": "markdown",
      "metadata": {
        "id": "Z7FK9lOfTVTR",
        "colab_type": "text"
      },
      "source": [
        "### Unzip and  make train *files*"
      ]
    },
    {
      "cell_type": "code",
      "metadata": {
        "id": "XC5Up7kiEJUC",
        "colab_type": "code",
        "colab": {
          "base_uri": "https://localhost:8080/",
          "height": 1000
        },
        "outputId": "42652cfc-4094-4953-a614-7df2b444fdf5"
      },
      "source": [
        "!unzip Archive\n",
        "%cd /content/yolo-test/\n",
        "!python make_train_files.py"
      ],
      "execution_count": 2,
      "outputs": [
        {
          "output_type": "stream",
          "text": [
            "Archive:  Archive.zip\n",
            "   creating: Annotations/\n",
            "  inflating: Annotations/resize_12.xml  \n",
            "  inflating: Annotations/resize_13.xml  \n",
            "  inflating: Annotations/resize_3.xml  \n",
            "  inflating: Annotations/resize_11.xml  \n",
            "  inflating: Annotations/resize_10.xml  \n",
            "  inflating: Annotations/resize_4.xml  \n",
            "  inflating: Annotations/resize_14.xml  \n",
            "  inflating: Annotations/resize_28.xml  \n",
            "  inflating: Annotations/resize_29.xml  \n",
            "  inflating: Annotations/resize_15.xml  \n",
            "  inflating: Annotations/resize_5.xml  \n",
            "  inflating: Annotations/resize_7.xml  \n",
            "  inflating: Annotations/resize_17.xml  \n",
            "  inflating: Annotations/resize_16.xml  \n",
            "  inflating: Annotations/resize_6.xml  \n",
            "  inflating: Annotations/resize_27.xml  \n",
            "  inflating: Annotations/resize_26.xml  \n",
            "  inflating: Annotations/resize_8.xml  \n",
            "  inflating: Annotations/resize_18.xml  \n",
            "  inflating: Annotations/resize_30.xml  \n",
            "  inflating: Annotations/resize_25.xml  \n",
            "  inflating: Annotations/resize_31.xml  \n",
            "  inflating: Annotations/resize_19.xml  \n",
            "  inflating: Annotations/resize_9.xml  \n",
            "  inflating: Annotations/resize_21.xml  \n",
            "  inflating: Annotations/resize_20.xml  \n",
            "  inflating: Annotations/resize_22.xml  \n",
            "   creating: ImageSets/\n",
            "   creating: ImageSets/Main/\n",
            "  inflating: ImageSets/Main/cone_val.txt  \n",
            "  inflating: ImageSets/Main/cone_train.txt  \n",
            "   creating: JPEGImages/\n",
            "  inflating: JPEGImages/resize_12.jpg  \n",
            "  inflating: JPEGImages/resize_13.jpg  \n",
            "  inflating: JPEGImages/resize_3.jpg  \n",
            "  inflating: JPEGImages/resize_11.jpg  \n",
            "  inflating: JPEGImages/resize_10.jpg  \n",
            "  inflating: JPEGImages/resize_4.jpg  \n",
            "  inflating: JPEGImages/resize_28.jpg  \n",
            "  inflating: JPEGImages/resize_14.jpg  \n",
            "  inflating: JPEGImages/resize_15.jpg  \n",
            "  inflating: JPEGImages/resize_29.jpg  \n",
            "  inflating: JPEGImages/resize_5.jpg  \n",
            "  inflating: JPEGImages/resize_7.jpg  \n",
            "  inflating: JPEGImages/resize_17.jpg  \n",
            "  inflating: JPEGImages/resize_16.jpg  \n",
            "  inflating: JPEGImages/resize_6.jpg  \n",
            "  inflating: JPEGImages/resize_27.jpg  \n",
            "  inflating: JPEGImages/resize_26.jpg  \n",
            "  inflating: JPEGImages/resize_8.jpg  \n",
            "  inflating: JPEGImages/resize_30.jpg  \n",
            "  inflating: JPEGImages/resize_18.jpg  \n",
            "  inflating: JPEGImages/resize_19.jpg  \n",
            "  inflating: JPEGImages/resize_25.jpg  \n",
            "  inflating: JPEGImages/resize_31.jpg  \n",
            "  inflating: JPEGImages/resize_9.jpg  \n",
            "  inflating: JPEGImages/resize_21.jpg  \n",
            "  inflating: JPEGImages/resize_20.jpg  \n",
            "  inflating: JPEGImages/resize_22.jpg  \n",
            "  inflating: pascal_label_map.pbtxt  \n",
            "/content/yolo-test\n",
            "/content/yolo-test/VOCDevkit/VOC2007/ImageSets/Main\n",
            "suffix _train\n",
            "suffix _val\n",
            "suffix _test\n",
            "len 5\n",
            "val.txt 1\n",
            "test.txt 4\n"
          ],
          "name": "stdout"
        }
      ]
    },
    {
      "cell_type": "markdown",
      "metadata": {
        "id": "jUoAiG4UTe9A",
        "colab_type": "text"
      },
      "source": [
        "### Convert annotations for YOLO\n",
        "\n",
        "Please set your *classes*\n",
        "フラグでクラスを指定する\n",
        "\n"
      ]
    },
    {
      "cell_type": "code",
      "metadata": {
        "id": "diC0y4-_KsFf",
        "colab_type": "code",
        "colab": {}
      },
      "source": [
        "!python voc_annotation.py cone"
      ],
      "execution_count": 3,
      "outputs": []
    },
    {
      "cell_type": "markdown",
      "metadata": {
        "id": "4Ej6x80iUitk",
        "colab_type": "text"
      },
      "source": [
        "### Train model"
      ]
    },
    {
      "cell_type": "code",
      "metadata": {
        "id": "xlq3Eh2YGD7X",
        "colab_type": "code",
        "colab": {
          "base_uri": "https://localhost:8080/",
          "height": 1000
        },
        "outputId": "706688f9-05e4-46f5-f632-fbd1fe661f51"
      },
      "source": [
        "!python train.py"
      ],
      "execution_count": 5,
      "outputs": [
        {
          "output_type": "stream",
          "text": [
            "Using TensorFlow backend.\n",
            "2020-09-21 07:22:37.245341: I tensorflow/core/platform/cpu_feature_guard.cc:140] Your CPU supports instructions that this TensorFlow binary was not compiled to use: AVX2 FMA\n",
            "Create Tiny YOLOv3 model with 6 anchors and 1 classes.\n",
            "/usr/local/lib/python3.6/dist-packages/keras/engine/topology.py:3462: UserWarning: Skipping loading of weights for layer conv2d_10 due to mismatch in shape ((1, 1, 512, 18) vs (255, 512, 1, 1)).\n",
            "  weight_values[i].shape))\n",
            "/usr/local/lib/python3.6/dist-packages/keras/engine/topology.py:3462: UserWarning: Skipping loading of weights for layer conv2d_10 due to mismatch in shape ((18,) vs (255,)).\n",
            "  weight_values[i].shape))\n",
            "/usr/local/lib/python3.6/dist-packages/keras/engine/topology.py:3462: UserWarning: Skipping loading of weights for layer conv2d_13 due to mismatch in shape ((1, 1, 256, 18) vs (255, 256, 1, 1)).\n",
            "  weight_values[i].shape))\n",
            "/usr/local/lib/python3.6/dist-packages/keras/engine/topology.py:3462: UserWarning: Skipping loading of weights for layer conv2d_13 due to mismatch in shape ((18,) vs (255,)).\n",
            "  weight_values[i].shape))\n",
            "Load weights model_data/tiny_yolo_weights.h5.\n",
            "Freeze the first 42 layers of total 44 layers.\n",
            "Train on 19 samples, val on 2 samples, with batch size 8.\n",
            "Epoch 1/50\n",
            "2/2 [==============================] - 16s 8s/step - loss: 2287.7279 - val_loss: 1969.6927\n",
            "Epoch 2/50\n",
            "2/2 [==============================] - 12s 6s/step - loss: 1923.0308 - val_loss: 1693.0205\n",
            "Epoch 3/50\n",
            "2/2 [==============================] - 12s 6s/step - loss: 1602.3455 - val_loss: 1430.8496\n",
            "Epoch 4/50\n",
            "2/2 [==============================] - 12s 6s/step - loss: 1336.5507 - val_loss: 1164.1710\n",
            "Epoch 5/50\n",
            "2/2 [==============================] - 12s 6s/step - loss: 1129.7294 - val_loss: 896.6464\n",
            "Epoch 6/50\n",
            "2/2 [==============================] - 12s 6s/step - loss: 931.6467 - val_loss: 829.4530\n",
            "Epoch 7/50\n",
            "2/2 [==============================] - 12s 6s/step - loss: 781.5131 - val_loss: 669.7275\n",
            "Epoch 8/50\n",
            "2/2 [==============================] - 12s 6s/step - loss: 654.9710 - val_loss: 575.0310\n",
            "Epoch 9/50\n",
            "2/2 [==============================] - 12s 6s/step - loss: 558.2572 - val_loss: 516.5705\n",
            "Epoch 10/50\n",
            "2/2 [==============================] - 12s 6s/step - loss: 479.6683 - val_loss: 398.5029\n",
            "Epoch 11/50\n",
            "2/2 [==============================] - 12s 6s/step - loss: 411.5020 - val_loss: 366.9125\n",
            "Epoch 12/50\n",
            "2/2 [==============================] - 12s 6s/step - loss: 350.5741 - val_loss: 344.2676\n",
            "Epoch 13/50\n",
            "2/2 [==============================] - 12s 6s/step - loss: 308.6032 - val_loss: 273.9251\n",
            "Epoch 14/50\n",
            "2/2 [==============================] - 12s 6s/step - loss: 279.7026 - val_loss: 244.2134\n",
            "Epoch 15/50\n",
            "2/2 [==============================] - 12s 6s/step - loss: 238.9298 - val_loss: 212.8253\n",
            "Epoch 16/50\n",
            "2/2 [==============================] - 12s 6s/step - loss: 218.8579 - val_loss: 196.1183\n",
            "Epoch 17/50\n",
            "2/2 [==============================] - 12s 6s/step - loss: 196.6818 - val_loss: 160.8414\n",
            "Epoch 18/50\n",
            "2/2 [==============================] - 12s 6s/step - loss: 177.8166 - val_loss: 151.7307\n",
            "Epoch 19/50\n",
            "2/2 [==============================] - 12s 6s/step - loss: 163.6111 - val_loss: 150.8536\n",
            "Epoch 20/50\n",
            "2/2 [==============================] - 13s 7s/step - loss: 152.5048 - val_loss: 131.4677\n",
            "Epoch 21/50\n",
            "2/2 [==============================] - 12s 6s/step - loss: 146.0701 - val_loss: 128.2581\n",
            "Epoch 22/50\n",
            "2/2 [==============================] - 12s 6s/step - loss: 133.1215 - val_loss: 110.2873\n",
            "Epoch 23/50\n",
            "2/2 [==============================] - 12s 6s/step - loss: 128.2777 - val_loss: 118.5913\n",
            "Epoch 24/50\n",
            "2/2 [==============================] - 11s 6s/step - loss: 118.1796 - val_loss: 103.4140\n",
            "Epoch 25/50\n",
            "2/2 [==============================] - 12s 6s/step - loss: 114.2270 - val_loss: 91.8875\n",
            "Epoch 26/50\n",
            "2/2 [==============================] - 11s 6s/step - loss: 108.6167 - val_loss: 103.3514\n",
            "Epoch 27/50\n",
            "2/2 [==============================] - 12s 6s/step - loss: 104.3595 - val_loss: 86.1645\n",
            "Epoch 28/50\n",
            "2/2 [==============================] - 12s 6s/step - loss: 98.3774 - val_loss: 89.1530\n",
            "Epoch 29/50\n",
            "2/2 [==============================] - 12s 6s/step - loss: 96.2593 - val_loss: 72.0434\n",
            "Epoch 30/50\n",
            "2/2 [==============================] - 11s 6s/step - loss: 86.8836 - val_loss: 74.2062\n",
            "Epoch 31/50\n",
            "2/2 [==============================] - 12s 6s/step - loss: 88.9760 - val_loss: 86.5966\n",
            "Epoch 32/50\n",
            "2/2 [==============================] - 12s 6s/step - loss: 85.4949 - val_loss: 71.8166\n",
            "Epoch 33/50\n",
            "2/2 [==============================] - 12s 6s/step - loss: 76.0070 - val_loss: 73.5678\n",
            "Epoch 34/50\n",
            "2/2 [==============================] - 11s 6s/step - loss: 79.4811 - val_loss: 85.3010\n",
            "Epoch 35/50\n",
            "2/2 [==============================] - 12s 6s/step - loss: 77.5366 - val_loss: 71.7195\n",
            "Epoch 36/50\n",
            "2/2 [==============================] - 12s 6s/step - loss: 75.3972 - val_loss: 64.1033\n",
            "Epoch 37/50\n",
            "2/2 [==============================] - 12s 6s/step - loss: 73.5374 - val_loss: 57.4416\n",
            "Epoch 38/50\n",
            "2/2 [==============================] - 12s 6s/step - loss: 69.5813 - val_loss: 59.3668\n",
            "Epoch 39/50\n",
            "2/2 [==============================] - 12s 6s/step - loss: 71.4850 - val_loss: 64.5360\n",
            "Epoch 40/50\n",
            "2/2 [==============================] - 12s 6s/step - loss: 65.8149 - val_loss: 57.8672\n",
            "Epoch 41/50\n",
            "2/2 [==============================] - 12s 6s/step - loss: 70.0892 - val_loss: 56.6485\n",
            "Epoch 42/50\n",
            "2/2 [==============================] - 12s 6s/step - loss: 64.0658 - val_loss: 62.2702\n",
            "Epoch 43/50\n",
            "2/2 [==============================] - 11s 6s/step - loss: 62.8484 - val_loss: 53.8617\n",
            "Epoch 44/50\n",
            "2/2 [==============================] - 12s 6s/step - loss: 63.7719 - val_loss: 55.2396\n",
            "Epoch 45/50\n",
            "2/2 [==============================] - 12s 6s/step - loss: 58.2977 - val_loss: 49.6900\n",
            "Epoch 46/50\n",
            "2/2 [==============================] - 12s 6s/step - loss: 57.4837 - val_loss: 48.5195\n",
            "Epoch 47/50\n",
            "2/2 [==============================] - 12s 6s/step - loss: 56.7891 - val_loss: 51.4118\n",
            "Epoch 48/50\n",
            "2/2 [==============================] - 12s 6s/step - loss: 61.9972 - val_loss: 46.9532\n",
            "Epoch 49/50\n",
            "2/2 [==============================] - 11s 6s/step - loss: 55.5820 - val_loss: 45.8906\n",
            "Epoch 50/50\n",
            "2/2 [==============================] - 12s 6s/step - loss: 57.1056 - val_loss: 49.4450\n",
            "Unfreeze all of the layers.\n",
            "Train on 19 samples, val on 2 samples, with batch size 8.\n",
            "Epoch 51/100\n",
            "2/2 [==============================] - 28s 14s/step - loss: 50.2427 - val_loss: 40.6465\n",
            "Epoch 52/100\n",
            "2/2 [==============================] - 22s 11s/step - loss: 41.4212 - val_loss: 45.2573\n",
            "Epoch 53/100\n",
            "2/2 [==============================] - 22s 11s/step - loss: 39.9129 - val_loss: 36.8613\n",
            "Epoch 54/100\n",
            "2/2 [==============================] - 22s 11s/step - loss: 34.6800 - val_loss: 34.1845\n",
            "Epoch 55/100\n",
            "2/2 [==============================] - 22s 11s/step - loss: 32.6296 - val_loss: 26.1513\n",
            "Epoch 56/100\n",
            "2/2 [==============================] - 22s 11s/step - loss: 30.4988 - val_loss: 27.3634\n",
            "Epoch 57/100\n",
            "2/2 [==============================] - 22s 11s/step - loss: 28.1412 - val_loss: 27.5027\n",
            "Epoch 58/100\n",
            "2/2 [==============================] - 22s 11s/step - loss: 29.2187 - val_loss: 23.1529\n",
            "Epoch 59/100\n",
            "2/2 [==============================] - 22s 11s/step - loss: 28.9150 - val_loss: 24.8327\n",
            "Epoch 60/100\n",
            "2/2 [==============================] - 22s 11s/step - loss: 25.1193 - val_loss: 18.3071\n",
            "Epoch 61/100\n",
            "2/2 [==============================] - 24s 12s/step - loss: 27.3174 - val_loss: 23.6928\n",
            "Epoch 62/100\n",
            "2/2 [==============================] - 22s 11s/step - loss: 24.4882 - val_loss: 20.9042\n",
            "Epoch 63/100\n",
            "2/2 [==============================] - 22s 11s/step - loss: 23.5140 - val_loss: 20.2385\n",
            "Epoch 64/100\n",
            "2/2 [==============================] - 22s 11s/step - loss: 20.6765 - val_loss: 21.7326\n",
            "\n",
            "Epoch 00064: ReduceLROnPlateau reducing learning rate to 9.999999747378752e-06.\n",
            "Epoch 65/100\n",
            "2/2 [==============================] - 22s 11s/step - loss: 23.2764 - val_loss: 23.1576\n",
            "Epoch 66/100\n",
            "2/2 [==============================] - 22s 11s/step - loss: 20.4303 - val_loss: 23.1903\n",
            "Epoch 67/100\n",
            "2/2 [==============================] - 22s 11s/step - loss: 21.8566 - val_loss: 21.5906\n",
            "\n",
            "Epoch 00067: ReduceLROnPlateau reducing learning rate to 9.999999747378752e-07.\n",
            "Epoch 68/100\n",
            "2/2 [==============================] - 22s 11s/step - loss: 21.3878 - val_loss: 21.2318\n",
            "Epoch 69/100\n",
            "2/2 [==============================] - 22s 11s/step - loss: 23.4031 - val_loss: 22.5314\n",
            "Epoch 70/100\n",
            "2/2 [==============================] - 22s 11s/step - loss: 22.3398 - val_loss: 18.2371\n",
            "Epoch 71/100\n",
            "2/2 [==============================] - 21s 11s/step - loss: 25.2953 - val_loss: 22.6529\n",
            "Epoch 72/100\n",
            "2/2 [==============================] - 21s 11s/step - loss: 21.8994 - val_loss: 22.5763\n",
            "Epoch 73/100\n",
            "2/2 [==============================] - 22s 11s/step - loss: 23.1052 - val_loss: 20.8900\n",
            "Epoch 74/100\n",
            "2/2 [==============================] - 22s 11s/step - loss: 20.8061 - val_loss: 21.1062\n",
            "\n",
            "Epoch 00074: ReduceLROnPlateau reducing learning rate to 9.999999974752428e-08.\n",
            "Epoch 75/100\n",
            "2/2 [==============================] - 22s 11s/step - loss: 22.0747 - val_loss: 22.2920\n",
            "Epoch 76/100\n",
            "2/2 [==============================] - 22s 11s/step - loss: 21.7223 - val_loss: 21.5497\n",
            "Epoch 77/100\n",
            "2/2 [==============================] - 22s 11s/step - loss: 21.6075 - val_loss: 20.5425\n",
            "\n",
            "Epoch 00077: ReduceLROnPlateau reducing learning rate to 1.0000000116860975e-08.\n",
            "Epoch 78/100\n",
            "2/2 [==============================] - 22s 11s/step - loss: 20.5655 - val_loss: 20.6248\n",
            "Epoch 79/100\n",
            "2/2 [==============================] - 22s 11s/step - loss: 24.9088 - val_loss: 22.2605\n",
            "Epoch 80/100\n",
            "2/2 [==============================] - 22s 11s/step - loss: 21.4546 - val_loss: 23.8911\n",
            "\n",
            "Epoch 00080: ReduceLROnPlateau reducing learning rate to 9.999999939225292e-10.\n",
            "Epoch 00080: early stopping\n"
          ],
          "name": "stdout"
        }
      ]
    },
    {
      "cell_type": "markdown",
      "metadata": {
        "id": "e2z2q-QnUmLl",
        "colab_type": "text"
      },
      "source": [
        "### Download trainde weights and classes file\n",
        "<br>\n",
        "ダウンロードがブロックされることがあるので注意"
      ]
    },
    {
      "cell_type": "code",
      "metadata": {
        "id": "o3qMhAalLPwL",
        "colab_type": "code",
        "colab": {
          "base_uri": "https://localhost:8080/",
          "height": 17
        },
        "outputId": "b7f472d7-0dd7-4cb2-e8ce-d1b35cf69aae"
      },
      "source": [
        "#ダウンロード\n",
        "classes = \"model_data/voc_classes.txt\"\n",
        "files.download(classes)\n",
        "\n",
        "trained = 'logs/000/trained_weights_final.h5'\n",
        "files.download(trained)\n",
        "\n",
        "train_imgs = \"model_data/2007_train.txt\"\n",
        "files.download(train_imgs)\n",
        "\n",
        "val_imgs = \"model_data/2007_val.txt\"\n",
        "files.download(val_imgs)\n",
        "\n",
        "test_imgs = \"model_data/2007_test.txt\"\n",
        "files.download(test_imgs)"
      ],
      "execution_count": 6,
      "outputs": [
        {
          "output_type": "display_data",
          "data": {
            "application/javascript": [
              "\n",
              "    async function download(id, filename, size) {\n",
              "      if (!google.colab.kernel.accessAllowed) {\n",
              "        return;\n",
              "      }\n",
              "      const div = document.createElement('div');\n",
              "      const label = document.createElement('label');\n",
              "      label.textContent = `Downloading \"${filename}\": `;\n",
              "      div.appendChild(label);\n",
              "      const progress = document.createElement('progress');\n",
              "      progress.max = size;\n",
              "      div.appendChild(progress);\n",
              "      document.body.appendChild(div);\n",
              "\n",
              "      const buffers = [];\n",
              "      let downloaded = 0;\n",
              "\n",
              "      const channel = await google.colab.kernel.comms.open(id);\n",
              "      // Send a message to notify the kernel that we're ready.\n",
              "      channel.send({})\n",
              "\n",
              "      for await (const message of channel.messages) {\n",
              "        // Send a message to notify the kernel that we're ready.\n",
              "        channel.send({})\n",
              "        if (message.buffers) {\n",
              "          for (const buffer of message.buffers) {\n",
              "            buffers.push(buffer);\n",
              "            downloaded += buffer.byteLength;\n",
              "            progress.value = downloaded;\n",
              "          }\n",
              "        }\n",
              "      }\n",
              "      const blob = new Blob(buffers, {type: 'application/binary'});\n",
              "      const a = document.createElement('a');\n",
              "      a.href = window.URL.createObjectURL(blob);\n",
              "      a.download = filename;\n",
              "      div.appendChild(a);\n",
              "      a.click();\n",
              "      div.remove();\n",
              "    }\n",
              "  "
            ],
            "text/plain": [
              "<IPython.core.display.Javascript object>"
            ]
          },
          "metadata": {
            "tags": []
          }
        },
        {
          "output_type": "display_data",
          "data": {
            "application/javascript": [
              "download(\"download_e8a2e179-2a44-4b89-846c-9c0699993e75\", \"voc_classes.txt\", 4)"
            ],
            "text/plain": [
              "<IPython.core.display.Javascript object>"
            ]
          },
          "metadata": {
            "tags": []
          }
        },
        {
          "output_type": "display_data",
          "data": {
            "application/javascript": [
              "\n",
              "    async function download(id, filename, size) {\n",
              "      if (!google.colab.kernel.accessAllowed) {\n",
              "        return;\n",
              "      }\n",
              "      const div = document.createElement('div');\n",
              "      const label = document.createElement('label');\n",
              "      label.textContent = `Downloading \"${filename}\": `;\n",
              "      div.appendChild(label);\n",
              "      const progress = document.createElement('progress');\n",
              "      progress.max = size;\n",
              "      div.appendChild(progress);\n",
              "      document.body.appendChild(div);\n",
              "\n",
              "      const buffers = [];\n",
              "      let downloaded = 0;\n",
              "\n",
              "      const channel = await google.colab.kernel.comms.open(id);\n",
              "      // Send a message to notify the kernel that we're ready.\n",
              "      channel.send({})\n",
              "\n",
              "      for await (const message of channel.messages) {\n",
              "        // Send a message to notify the kernel that we're ready.\n",
              "        channel.send({})\n",
              "        if (message.buffers) {\n",
              "          for (const buffer of message.buffers) {\n",
              "            buffers.push(buffer);\n",
              "            downloaded += buffer.byteLength;\n",
              "            progress.value = downloaded;\n",
              "          }\n",
              "        }\n",
              "      }\n",
              "      const blob = new Blob(buffers, {type: 'application/binary'});\n",
              "      const a = document.createElement('a');\n",
              "      a.href = window.URL.createObjectURL(blob);\n",
              "      a.download = filename;\n",
              "      div.appendChild(a);\n",
              "      a.click();\n",
              "      div.remove();\n",
              "    }\n",
              "  "
            ],
            "text/plain": [
              "<IPython.core.display.Javascript object>"
            ]
          },
          "metadata": {
            "tags": []
          }
        },
        {
          "output_type": "display_data",
          "data": {
            "application/javascript": [
              "download(\"download_ec5d101b-52af-4cc6-b4b9-80060c63a3df\", \"trained_weights_final.h5\", 34805224)"
            ],
            "text/plain": [
              "<IPython.core.display.Javascript object>"
            ]
          },
          "metadata": {
            "tags": []
          }
        },
        {
          "output_type": "display_data",
          "data": {
            "application/javascript": [
              "\n",
              "    async function download(id, filename, size) {\n",
              "      if (!google.colab.kernel.accessAllowed) {\n",
              "        return;\n",
              "      }\n",
              "      const div = document.createElement('div');\n",
              "      const label = document.createElement('label');\n",
              "      label.textContent = `Downloading \"${filename}\": `;\n",
              "      div.appendChild(label);\n",
              "      const progress = document.createElement('progress');\n",
              "      progress.max = size;\n",
              "      div.appendChild(progress);\n",
              "      document.body.appendChild(div);\n",
              "\n",
              "      const buffers = [];\n",
              "      let downloaded = 0;\n",
              "\n",
              "      const channel = await google.colab.kernel.comms.open(id);\n",
              "      // Send a message to notify the kernel that we're ready.\n",
              "      channel.send({})\n",
              "\n",
              "      for await (const message of channel.messages) {\n",
              "        // Send a message to notify the kernel that we're ready.\n",
              "        channel.send({})\n",
              "        if (message.buffers) {\n",
              "          for (const buffer of message.buffers) {\n",
              "            buffers.push(buffer);\n",
              "            downloaded += buffer.byteLength;\n",
              "            progress.value = downloaded;\n",
              "          }\n",
              "        }\n",
              "      }\n",
              "      const blob = new Blob(buffers, {type: 'application/binary'});\n",
              "      const a = document.createElement('a');\n",
              "      a.href = window.URL.createObjectURL(blob);\n",
              "      a.download = filename;\n",
              "      div.appendChild(a);\n",
              "      a.click();\n",
              "      div.remove();\n",
              "    }\n",
              "  "
            ],
            "text/plain": [
              "<IPython.core.display.Javascript object>"
            ]
          },
          "metadata": {
            "tags": []
          }
        },
        {
          "output_type": "display_data",
          "data": {
            "application/javascript": [
              "download(\"download_06ce6a14-269a-4962-854a-08a84e5b9b2a\", \"2007_train.txt\", 2120)"
            ],
            "text/plain": [
              "<IPython.core.display.Javascript object>"
            ]
          },
          "metadata": {
            "tags": []
          }
        },
        {
          "output_type": "display_data",
          "data": {
            "application/javascript": [
              "\n",
              "    async function download(id, filename, size) {\n",
              "      if (!google.colab.kernel.accessAllowed) {\n",
              "        return;\n",
              "      }\n",
              "      const div = document.createElement('div');\n",
              "      const label = document.createElement('label');\n",
              "      label.textContent = `Downloading \"${filename}\": `;\n",
              "      div.appendChild(label);\n",
              "      const progress = document.createElement('progress');\n",
              "      progress.max = size;\n",
              "      div.appendChild(progress);\n",
              "      document.body.appendChild(div);\n",
              "\n",
              "      const buffers = [];\n",
              "      let downloaded = 0;\n",
              "\n",
              "      const channel = await google.colab.kernel.comms.open(id);\n",
              "      // Send a message to notify the kernel that we're ready.\n",
              "      channel.send({})\n",
              "\n",
              "      for await (const message of channel.messages) {\n",
              "        // Send a message to notify the kernel that we're ready.\n",
              "        channel.send({})\n",
              "        if (message.buffers) {\n",
              "          for (const buffer of message.buffers) {\n",
              "            buffers.push(buffer);\n",
              "            downloaded += buffer.byteLength;\n",
              "            progress.value = downloaded;\n",
              "          }\n",
              "        }\n",
              "      }\n",
              "      const blob = new Blob(buffers, {type: 'application/binary'});\n",
              "      const a = document.createElement('a');\n",
              "      a.href = window.URL.createObjectURL(blob);\n",
              "      a.download = filename;\n",
              "      div.appendChild(a);\n",
              "      a.click();\n",
              "      div.remove();\n",
              "    }\n",
              "  "
            ],
            "text/plain": [
              "<IPython.core.display.Javascript object>"
            ]
          },
          "metadata": {
            "tags": []
          }
        },
        {
          "output_type": "display_data",
          "data": {
            "application/javascript": [
              "download(\"download_1dab1416-00cf-4eb6-b3ec-d73ae2b60e97\", \"2007_val.txt\", 158)"
            ],
            "text/plain": [
              "<IPython.core.display.Javascript object>"
            ]
          },
          "metadata": {
            "tags": []
          }
        },
        {
          "output_type": "display_data",
          "data": {
            "application/javascript": [
              "\n",
              "    async function download(id, filename, size) {\n",
              "      if (!google.colab.kernel.accessAllowed) {\n",
              "        return;\n",
              "      }\n",
              "      const div = document.createElement('div');\n",
              "      const label = document.createElement('label');\n",
              "      label.textContent = `Downloading \"${filename}\": `;\n",
              "      div.appendChild(label);\n",
              "      const progress = document.createElement('progress');\n",
              "      progress.max = size;\n",
              "      div.appendChild(progress);\n",
              "      document.body.appendChild(div);\n",
              "\n",
              "      const buffers = [];\n",
              "      let downloaded = 0;\n",
              "\n",
              "      const channel = await google.colab.kernel.comms.open(id);\n",
              "      // Send a message to notify the kernel that we're ready.\n",
              "      channel.send({})\n",
              "\n",
              "      for await (const message of channel.messages) {\n",
              "        // Send a message to notify the kernel that we're ready.\n",
              "        channel.send({})\n",
              "        if (message.buffers) {\n",
              "          for (const buffer of message.buffers) {\n",
              "            buffers.push(buffer);\n",
              "            downloaded += buffer.byteLength;\n",
              "            progress.value = downloaded;\n",
              "          }\n",
              "        }\n",
              "      }\n",
              "      const blob = new Blob(buffers, {type: 'application/binary'});\n",
              "      const a = document.createElement('a');\n",
              "      a.href = window.URL.createObjectURL(blob);\n",
              "      a.download = filename;\n",
              "      div.appendChild(a);\n",
              "      a.click();\n",
              "      div.remove();\n",
              "    }\n",
              "  "
            ],
            "text/plain": [
              "<IPython.core.display.Javascript object>"
            ]
          },
          "metadata": {
            "tags": []
          }
        },
        {
          "output_type": "display_data",
          "data": {
            "application/javascript": [
              "download(\"download_131bf757-ffa5-40c0-807d-4d1dde560215\", \"2007_test.txt\", 431)"
            ],
            "text/plain": [
              "<IPython.core.display.Javascript object>"
            ]
          },
          "metadata": {
            "tags": []
          }
        }
      ]
    },
    {
      "cell_type": "markdown",
      "metadata": {
        "id": "9_rn0ZeXZoLx",
        "colab_type": "text"
      },
      "source": [
        "### Predict by new model\n",
        "結果はresult.jpgとして保存されるようにしてあります"
      ]
    },
    {
      "cell_type": "code",
      "metadata": {
        "id": "KKFH_XSwYMJP",
        "colab_type": "code",
        "colab": {
          "base_uri": "https://localhost:8080/",
          "height": 816
        },
        "outputId": "d8f42793-c7d1-4861-b2a1-c27ad6946274"
      },
      "source": [
        "!python tiny_yolo_video.py --image"
      ],
      "execution_count": 7,
      "outputs": [
        {
          "output_type": "stream",
          "text": [
            "Using TensorFlow backend.\n",
            "Image detection mode\n",
            " Ignoring remaining command line arguments: ./path2your_video,\n",
            "2020-09-21 07:44:57.854019: I tensorflow/core/platform/cpu_feature_guard.cc:140] Your CPU supports instructions that this TensorFlow binary was not compiled to use: AVX2 FMA\n",
            "logs/000/trained_weights_final.h5 model, anchors, and classes loaded.\n",
            "Input image filename:resize_9.jpg\n",
            "Open Error! Try again!\n",
            "Input image filename:resize_9.jpg\n",
            "(320, 320, 3)\n",
            "Found 0 boxes for img\n",
            "0.45148398899982567\n",
            "Input image filename:resize_4.py\n",
            "Open Error! Try again!\n",
            "Input image filename:resize_4.jpg\n",
            "(320, 320, 3)\n",
            "Found 0 boxes for img\n",
            "0.3448284290000174\n",
            "Input image filename:resize_5.jpg\n",
            "(320, 320, 3)\n",
            "Found 0 boxes for img\n",
            "0.3035333370000899\n",
            "Input image filename:resize_6.jpg\n",
            "(320, 320, 3)\n",
            "Found 0 boxes for img\n",
            "0.2907304049999766\n",
            "Input image filename:resize_10.jpg\n",
            "Open Error! Try again!\n",
            "Input image filename:resize_10.jpg\n",
            "(320, 320, 3)\n",
            "Found 0 boxes for img\n",
            "0.3197281029997612\n",
            "Input image filename:resize_7.jpg\n",
            "(320, 320, 3)\n",
            "Found 0 boxes for img\n",
            "0.2788994779998575\n",
            "Input image filename:resize_17.jpg\n",
            "(320, 320, 3)\n",
            "Found 1 boxes for img\n",
            "cone 0.34 (300, 98) (318, 171)\n",
            "0.30332478100035587\n",
            "Input image filename:Traceback (most recent call last):\n",
            "  File \"tiny_yolo_video.py\", line 77, in <module>\n",
            "    detect_img(YOLO(**vars(FLAGS)))\n",
            "  File \"tiny_yolo_video.py\", line 12, in detect_img\n",
            "    img = input('Input image filename:')\n",
            "KeyboardInterrupt\n",
            "^C\n"
          ],
          "name": "stdout"
        }
      ]
    },
    {
      "cell_type": "code",
      "metadata": {
        "id": "duV8zRiFLcVK",
        "colab_type": "code",
        "colab": {}
      },
      "source": [
        ""
      ],
      "execution_count": null,
      "outputs": []
    }
  ]
}